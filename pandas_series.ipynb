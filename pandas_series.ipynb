{
 "cells": [
  {
   "cell_type": "markdown",
   "id": "1cda7f0a-68f1-4463-a724-c81e079cc6e9",
   "metadata": {},
   "source": [
    "# Exercises Part I"
   ]
  },
  {
   "cell_type": "markdown",
   "id": "cb51be27-5192-4c18-b4a3-0d458d2de31b",
   "metadata": {},
   "source": [
    "## Use pandas to create a Series named fruits from the following list:"
   ]
  },
  {
   "cell_type": "markdown",
   "id": "007e49b0-9222-426e-8894-afdd6ea6b3da",
   "metadata": {
    "tags": []
   },
   "source": [
    "### [\"kiwi\", \"mango\", \"strawberry\", \"pineapple\", \"gala apple\", \"honeycrisp apple\", \"tomato\", \"watermelon\", \"honeydew\", \"kiwi\", \"kiwi\", \"kiwi\", \"mango\", \"blueberry\", \"blackberry\", \"gooseberry\", \"papaya\"]\n",
    "\n"
   ]
  },
  {
   "cell_type": "code",
   "execution_count": 2,
   "id": "69fccfab-b6d0-4ea3-bde2-cadd3b7435d4",
   "metadata": {
    "tags": []
   },
   "outputs": [],
   "source": [
    "import pandas as pd"
   ]
  },
  {
   "cell_type": "code",
   "execution_count": 3,
   "id": "22c0075d-e909-4c45-be27-6a4a0e3fd136",
   "metadata": {
    "tags": []
   },
   "outputs": [],
   "source": [
    "fruits = pd.Series(['kiwi', 'mango', 'strawberry', 'pineapple', 'gala apple', 'honeycrisp apple', 'tomato', 'watermelon', 'honeydew', 'kiwi', 'kiwi', 'kiwi', 'mango', 'blueberry', 'blackberry', 'gooseberry', 'papaya'])"
   ]
  },
  {
   "cell_type": "code",
   "execution_count": 4,
   "id": "74ea424c-6305-4472-9d72-47b1844b6c5f",
   "metadata": {
    "tags": []
   },
   "outputs": [
    {
     "data": {
      "text/plain": [
       "0                 kiwi\n",
       "1                mango\n",
       "2           strawberry\n",
       "3            pineapple\n",
       "4           gala apple\n",
       "5     honeycrisp apple\n",
       "6               tomato\n",
       "7           watermelon\n",
       "8             honeydew\n",
       "9                 kiwi\n",
       "10                kiwi\n",
       "11                kiwi\n",
       "12               mango\n",
       "13           blueberry\n",
       "14          blackberry\n",
       "15          gooseberry\n",
       "16              papaya\n",
       "dtype: object"
      ]
     },
     "execution_count": 4,
     "metadata": {},
     "output_type": "execute_result"
    }
   ],
   "source": [
    "fruits"
   ]
  },
  {
   "cell_type": "markdown",
   "id": "a792ff01-59a5-4585-a5ee-eba7c708a80d",
   "metadata": {},
   "source": [
    "## 1. Determine the number of elements in fruits."
   ]
  },
  {
   "cell_type": "code",
   "execution_count": 45,
   "id": "c987c575-017c-42c9-bddd-9b0764511114",
   "metadata": {
    "tags": []
   },
   "outputs": [
    {
     "data": {
      "text/plain": [
       "17"
      ]
     },
     "execution_count": 45,
     "metadata": {},
     "output_type": "execute_result"
    }
   ],
   "source": [
    "fruits.size"
   ]
  },
  {
   "cell_type": "markdown",
   "id": "80550fbb-b680-4b7e-a199-1d0613085a26",
   "metadata": {},
   "source": [
    "## 2. Output only the index from fruits."
   ]
  },
  {
   "cell_type": "code",
   "execution_count": 87,
   "id": "cb87fbcf-2f9d-46a0-b0da-fd4c8a9b6cd3",
   "metadata": {
    "tags": []
   },
   "outputs": [
    {
     "data": {
      "text/plain": [
       "[0, 1, 2, 3, 4, 5, 6, 7, 8, 9, 10, 11, 12, 13, 14, 15, 16]"
      ]
     },
     "execution_count": 87,
     "metadata": {},
     "output_type": "execute_result"
    }
   ],
   "source": [
    "# fruits.index\n",
    "\n",
    "list(fruits.index)"
   ]
  },
  {
   "cell_type": "markdown",
   "id": "0e9a4d2e-6a02-438e-8fa0-15eaa2d73038",
   "metadata": {},
   "source": [
    "## 3. Output only the values from fruits."
   ]
  },
  {
   "cell_type": "code",
   "execution_count": 8,
   "id": "ce2e2587-2aa9-45e9-a43a-d639cc72f155",
   "metadata": {
    "tags": []
   },
   "outputs": [
    {
     "data": {
      "text/plain": [
       "array(['kiwi', 'mango', 'strawberry', 'pineapple', 'gala apple',\n",
       "       'honeycrisp apple', 'tomato', 'watermelon', 'honeydew', 'kiwi',\n",
       "       'kiwi', 'kiwi', 'mango', 'blueberry', 'blackberry', 'gooseberry',\n",
       "       'papaya'], dtype=object)"
      ]
     },
     "execution_count": 8,
     "metadata": {},
     "output_type": "execute_result"
    }
   ],
   "source": [
    "fruits.values"
   ]
  },
  {
   "cell_type": "markdown",
   "id": "bc967f38-676d-48f5-b0b1-ee0734932949",
   "metadata": {},
   "source": [
    "## 4. Confirm the data type of the values in fruits."
   ]
  },
  {
   "cell_type": "code",
   "execution_count": 88,
   "id": "a3ba4383-4e20-4c4e-a43b-205aad60089c",
   "metadata": {
    "tags": []
   },
   "outputs": [
    {
     "data": {
      "text/plain": [
       "dtype('O')"
      ]
     },
     "execution_count": 88,
     "metadata": {},
     "output_type": "execute_result"
    }
   ],
   "source": [
    "fruits.dtype\n",
    "\n",
    "# 'O' stands for object"
   ]
  },
  {
   "cell_type": "markdown",
   "id": "a9edf88f-b703-44f9-8705-b5917ceb130d",
   "metadata": {},
   "source": [
    "## 5. Output only the first five values from fruits. Output the last three values. Output two random values from fruits."
   ]
  },
  {
   "cell_type": "code",
   "execution_count": 10,
   "id": "01ed7d73-62bb-45c1-86e2-57b5d8a3ba42",
   "metadata": {
    "tags": []
   },
   "outputs": [
    {
     "data": {
      "text/plain": [
       "0          kiwi\n",
       "1         mango\n",
       "2    strawberry\n",
       "3     pineapple\n",
       "4    gala apple\n",
       "dtype: object"
      ]
     },
     "execution_count": 10,
     "metadata": {},
     "output_type": "execute_result"
    }
   ],
   "source": [
    "fruits.head()"
   ]
  },
  {
   "cell_type": "code",
   "execution_count": 14,
   "id": "f11922e9-ec1e-4ac4-af4f-4b2448d1aa31",
   "metadata": {
    "tags": []
   },
   "outputs": [
    {
     "data": {
      "text/plain": [
       "14    blackberry\n",
       "15    gooseberry\n",
       "16        papaya\n",
       "dtype: object"
      ]
     },
     "execution_count": 14,
     "metadata": {},
     "output_type": "execute_result"
    }
   ],
   "source": [
    "fruits.tail(3)"
   ]
  },
  {
   "cell_type": "code",
   "execution_count": 15,
   "id": "6937bab3-1a82-4072-910e-b30de037b1b5",
   "metadata": {
    "tags": []
   },
   "outputs": [
    {
     "data": {
      "text/plain": [
       "13           blueberry\n",
       "5     honeycrisp apple\n",
       "dtype: object"
      ]
     },
     "execution_count": 15,
     "metadata": {},
     "output_type": "execute_result"
    }
   ],
   "source": [
    "fruits.sample(2)"
   ]
  },
  {
   "cell_type": "markdown",
   "id": "7592d98c-e34c-465b-86e9-d3b2e4096ab0",
   "metadata": {},
   "source": [
    "## 6. Run the .describe() on fruits to see what information it returns when called on a Series with string values."
   ]
  },
  {
   "cell_type": "code",
   "execution_count": 16,
   "id": "51da5eb7-3ae8-41ef-8fd3-3b717b89f6a2",
   "metadata": {
    "tags": []
   },
   "outputs": [
    {
     "data": {
      "text/plain": [
       "count       17\n",
       "unique      13\n",
       "top       kiwi\n",
       "freq         4\n",
       "dtype: object"
      ]
     },
     "execution_count": 16,
     "metadata": {},
     "output_type": "execute_result"
    }
   ],
   "source": [
    "fruits.describe()"
   ]
  },
  {
   "cell_type": "markdown",
   "id": "62806547-65a0-4401-8b22-b97a5c7f6126",
   "metadata": {},
   "source": [
    "## 7. Run the code necessary to produce only the unique string values from fruits."
   ]
  },
  {
   "cell_type": "code",
   "execution_count": 17,
   "id": "a70fde4d-ad77-4fb6-a030-a414317edaea",
   "metadata": {
    "tags": []
   },
   "outputs": [
    {
     "data": {
      "text/plain": [
       "array(['kiwi', 'mango', 'strawberry', 'pineapple', 'gala apple',\n",
       "       'honeycrisp apple', 'tomato', 'watermelon', 'honeydew',\n",
       "       'blueberry', 'blackberry', 'gooseberry', 'papaya'], dtype=object)"
      ]
     },
     "execution_count": 17,
     "metadata": {},
     "output_type": "execute_result"
    }
   ],
   "source": [
    "fruits.unique()\n",
    "#fruits.Nunique"
   ]
  },
  {
   "cell_type": "markdown",
   "id": "fb847296-184f-44f0-b5eb-bfb27e00b472",
   "metadata": {},
   "source": [
    "## 8. Determine how many times each unique string value occurs in fruits."
   ]
  },
  {
   "cell_type": "code",
   "execution_count": 18,
   "id": "93119128-2f8b-49bc-808c-5c7b0f4b6af4",
   "metadata": {
    "tags": []
   },
   "outputs": [
    {
     "data": {
      "text/plain": [
       "kiwi                4\n",
       "mango               2\n",
       "strawberry          1\n",
       "pineapple           1\n",
       "gala apple          1\n",
       "honeycrisp apple    1\n",
       "tomato              1\n",
       "watermelon          1\n",
       "honeydew            1\n",
       "blueberry           1\n",
       "blackberry          1\n",
       "gooseberry          1\n",
       "papaya              1\n",
       "Name: count, dtype: int64"
      ]
     },
     "execution_count": 18,
     "metadata": {},
     "output_type": "execute_result"
    }
   ],
   "source": [
    "fruits.value_counts()"
   ]
  },
  {
   "cell_type": "markdown",
   "id": "543a4f88-cd80-4f90-9656-8d76a0db5741",
   "metadata": {},
   "source": [
    "## 9. Determine the string value that occurs most frequently in fruits."
   ]
  },
  {
   "cell_type": "code",
   "execution_count": 19,
   "id": "8d57c4da-dbe1-47a2-8750-003d6fc61cd5",
   "metadata": {
    "tags": []
   },
   "outputs": [
    {
     "data": {
      "text/plain": [
       "0    kiwi\n",
       "dtype: object"
      ]
     },
     "execution_count": 19,
     "metadata": {},
     "output_type": "execute_result"
    }
   ],
   "source": [
    "fruits.mode()\n",
    "#fruits.describe\n",
    "#fruits.value_count()"
   ]
  },
  {
   "cell_type": "markdown",
   "id": "f82fa476-bef8-4d6d-9f31-0e21c7a88bb1",
   "metadata": {},
   "source": [
    "## 10. Determine the string value that occurs least frequently in fruits."
   ]
  },
  {
   "cell_type": "code",
   "execution_count": 93,
   "id": "0ef7638d-ceda-47d7-bd3b-9ba7b78c4de3",
   "metadata": {
    "tags": []
   },
   "outputs": [
    {
     "data": {
      "text/plain": [
       "watermelon    1\n",
       "Name: count, dtype: int64"
      ]
     },
     "execution_count": 93,
     "metadata": {},
     "output_type": "execute_result"
    }
   ],
   "source": [
    "# sorted string values in alphabetical order after determining many had a single count\n",
    "fruits.sort_values().value_counts().nsmallest(n=1, keep='last')\n",
    "# fruits.sort_vales().value_counts().tail(1)"
   ]
  },
  {
   "cell_type": "markdown",
   "id": "6da7b219-8552-43e0-8446-f7dcab16784c",
   "metadata": {},
   "source": [
    "# Exercises Part II"
   ]
  },
  {
   "cell_type": "markdown",
   "id": "aea0b57b-c501-47f3-9523-ec16c348d992",
   "metadata": {},
   "source": [
    "## 1. Capitalize all the string values in fruits."
   ]
  },
  {
   "cell_type": "code",
   "execution_count": 94,
   "id": "369aeb52-a5b0-421d-800e-6d814809c3f1",
   "metadata": {
    "tags": []
   },
   "outputs": [
    {
     "data": {
      "text/plain": [
       "0                 Kiwi\n",
       "1                Mango\n",
       "2           Strawberry\n",
       "3            Pineapple\n",
       "4           Gala apple\n",
       "5     Honeycrisp apple\n",
       "6               Tomato\n",
       "7           Watermelon\n",
       "8             Honeydew\n",
       "9                 Kiwi\n",
       "10                Kiwi\n",
       "11                Kiwi\n",
       "12               Mango\n",
       "13           Blueberry\n",
       "14          Blackberry\n",
       "15          Gooseberry\n",
       "16              Papaya\n",
       "dtype: object"
      ]
     },
     "execution_count": 94,
     "metadata": {},
     "output_type": "execute_result"
    }
   ],
   "source": [
    "fruits.str.capitalize()"
   ]
  },
  {
   "cell_type": "markdown",
   "id": "01c05fa0-1f2e-4ba9-a505-b410d4d67039",
   "metadata": {},
   "source": [
    "## 2. Count the letter \"a\" in all the string values (use string vectorization)."
   ]
  },
  {
   "cell_type": "code",
   "execution_count": 67,
   "id": "1a4b790d-9e66-48c4-a81d-0cd173c9aa31",
   "metadata": {
    "tags": []
   },
   "outputs": [
    {
     "data": {
      "text/plain": [
       "0     0\n",
       "1     1\n",
       "2     1\n",
       "3     1\n",
       "4     3\n",
       "5     1\n",
       "6     1\n",
       "7     1\n",
       "8     0\n",
       "9     0\n",
       "10    0\n",
       "11    0\n",
       "12    1\n",
       "13    0\n",
       "14    1\n",
       "15    0\n",
       "16    3\n",
       "dtype: int64"
      ]
     },
     "execution_count": 67,
     "metadata": {},
     "output_type": "execute_result"
    }
   ],
   "source": [
    "fruits.str.count('a')"
   ]
  },
  {
   "cell_type": "markdown",
   "id": "ed023114-db33-44ec-8ef4-67029484f586",
   "metadata": {},
   "source": [
    "## 3. Output the number of vowels in each and every string value."
   ]
  },
  {
   "cell_type": "code",
   "execution_count": 65,
   "id": "9a015f2e-90f9-4708-a155-14552392d316",
   "metadata": {
    "tags": []
   },
   "outputs": [
    {
     "name": "stdout",
     "output_type": "stream",
     "text": [
      "The number of vowels in 'kiwi' is: 2\n",
      "The number of vowels in 'mango' is: 2\n",
      "The number of vowels in 'strawberry' is: 2\n",
      "The number of vowels in 'pineapple' is: 4\n",
      "The number of vowels in 'gala apple' is: 4\n",
      "The number of vowels in 'honeycrisp apple' is: 5\n",
      "The number of vowels in 'tomato' is: 3\n",
      "The number of vowels in 'watermelon' is: 4\n",
      "The number of vowels in 'honeydew' is: 3\n",
      "The number of vowels in 'kiwi' is: 2\n",
      "The number of vowels in 'kiwi' is: 2\n",
      "The number of vowels in 'kiwi' is: 2\n",
      "The number of vowels in 'mango' is: 2\n",
      "The number of vowels in 'blueberry' is: 3\n",
      "The number of vowels in 'blackberry' is: 2\n",
      "The number of vowels in 'gooseberry' is: 4\n",
      "The number of vowels in 'papaya' is: 3\n"
     ]
    }
   ],
   "source": [
    "def count_vowels(s):\n",
    "    s = s.lower()\n",
    "    count = 0\n",
    "    vowels = set(\"aeiou\")\n",
    "    \n",
    "    for char in s:\n",
    "        if char in vowels:\n",
    "            count += 1\n",
    "    return count\n",
    "\n",
    "for fruit in fruits:\n",
    "    vowel_count = count_vowels(fruit)\n",
    "    print(f\"The number of vowels in '{fruit}' is: {vowel_count}\")\n"
   ]
  },
  {
   "cell_type": "markdown",
   "id": "e389f08d-9d09-43a3-982f-0d41163fdbb5",
   "metadata": {},
   "source": [
    "## 4. Write the code to get the longest string value from fruits."
   ]
  },
  {
   "cell_type": "code",
   "execution_count": 95,
   "id": "6de3479c-157f-4eb8-9330-ffc3202f55ba",
   "metadata": {
    "tags": []
   },
   "outputs": [
    {
     "data": {
      "text/plain": [
       "5    honeycrisp apple\n",
       "dtype: object"
      ]
     },
     "execution_count": 95,
     "metadata": {},
     "output_type": "execute_result"
    }
   ],
   "source": [
    "#using a boolean mask\n",
    "fruits[fruits.str.len() == fruits.str.len().max()]\n",
    "# using the key keyword argument in max()\n",
    "# max(fruits,key=len)"
   ]
  },
  {
   "cell_type": "markdown",
   "id": "d39b9cb5-eef7-49ca-a7f2-723607e4e214",
   "metadata": {},
   "source": [
    "## 5. Write the code to get the string values with 5 or more letters in the name."
   ]
  },
  {
   "cell_type": "code",
   "execution_count": 96,
   "id": "f76ad82e-365b-42d2-a6ae-56d783e134b5",
   "metadata": {
    "tags": []
   },
   "outputs": [
    {
     "data": {
      "text/plain": [
       "array(['mango', 'strawberry', 'pineapple', 'gala apple',\n",
       "       'honeycrisp apple', 'tomato', 'watermelon', 'honeydew', 'mango',\n",
       "       'blueberry', 'blackberry', 'gooseberry', 'papaya'], dtype=object)"
      ]
     },
     "execution_count": 96,
     "metadata": {},
     "output_type": "execute_result"
    }
   ],
   "source": [
    "fruits[fruits.str.len() >= 5].values"
   ]
  },
  {
   "cell_type": "markdown",
   "id": "1b91770b-51af-4633-a60f-19c351821cac",
   "metadata": {},
   "source": [
    "## 6. Find the fruit(s) containing the letter \"o\" two or more times."
   ]
  },
  {
   "cell_type": "code",
   "execution_count": 86,
   "id": "44c5fb77-9289-4bb8-8cba-557ec86c608c",
   "metadata": {
    "tags": []
   },
   "outputs": [
    {
     "name": "stdout",
     "output_type": "stream",
     "text": [
      "tomato\n",
      "gooseberry\n"
     ]
    }
   ],
   "source": [
    "result_fruits = [fruit for fruit in fruits if fruit.count(\"o\") >= 2]\n",
    "for fruit in result_fruits:\n",
    "    print(fruit)\n"
   ]
  },
  {
   "cell_type": "markdown",
   "id": "06aa516a-5e6f-47db-a85a-70b2a84ce7c0",
   "metadata": {},
   "source": [
    "## 7. Write the code to get only the string values containing the substring \"berry\"."
   ]
  },
  {
   "cell_type": "code",
   "execution_count": 97,
   "id": "f47bae04-236d-41f3-bd1c-05c1075889fd",
   "metadata": {
    "tags": []
   },
   "outputs": [
    {
     "data": {
      "text/plain": [
       "2     strawberry\n",
       "13     blueberry\n",
       "14    blackberry\n",
       "15    gooseberry\n",
       "dtype: object"
      ]
     },
     "execution_count": 97,
     "metadata": {},
     "output_type": "execute_result"
    }
   ],
   "source": [
    "fruits[fruits.str.contains('berry')]\n"
   ]
  },
  {
   "cell_type": "markdown",
   "id": "7f6e9d2d-530f-41ad-b3ff-be044661d842",
   "metadata": {},
   "source": [
    "## 8. Write the code to get only the string values containing the substring \"apple\"."
   ]
  },
  {
   "cell_type": "code",
   "execution_count": 98,
   "id": "10f44d38-15e1-4c05-97b9-bb6c5df82d0b",
   "metadata": {
    "tags": []
   },
   "outputs": [
    {
     "data": {
      "text/plain": [
       "3           pineapple\n",
       "4          gala apple\n",
       "5    honeycrisp apple\n",
       "dtype: object"
      ]
     },
     "execution_count": 98,
     "metadata": {},
     "output_type": "execute_result"
    }
   ],
   "source": [
    "fruits[fruits.str.contains('apple')]"
   ]
  },
  {
   "cell_type": "markdown",
   "id": "7c954214-d94a-4b94-8eec-8878b9cf6eda",
   "metadata": {},
   "source": [
    "## 9. Which string value contains the most vowels?"
   ]
  },
  {
   "cell_type": "code",
   "execution_count": 100,
   "id": "03ebad5b-aec0-451b-b47d-3c924395b084",
   "metadata": {
    "tags": []
   },
   "outputs": [
    {
     "data": {
      "text/plain": [
       "5    honeycrisp apple\n",
       "dtype: object"
      ]
     },
     "execution_count": 100,
     "metadata": {},
     "output_type": "execute_result"
    }
   ],
   "source": [
    "max_mask = (fruits.apply(count_vowels) == fruits.apply(count_vowels).max())\n",
    "fruits[max_mask]"
   ]
  },
  {
   "cell_type": "markdown",
   "id": "3221eb6c-4cff-4fa5-bf35-559f103b3aba",
   "metadata": {},
   "source": [
    "# Exercises Part III"
   ]
  },
  {
   "cell_type": "markdown",
   "id": "39ed1b09-0882-43e1-b38c-5b2c09baab5c",
   "metadata": {},
   "source": [
    "## Use pandas to create a Series named letters from the following string. The easiest way to make this string into a Pandas series is to use list to convert each individual letter into a single string on a basic Python list."
   ]
  },
  {
   "cell_type": "code",
   "execution_count": null,
   "id": "306850b9-7ae8-4bae-b099-8785acca9aaf",
   "metadata": {},
   "outputs": [],
   "source": [
    "'hnvidduckkqxwymbimkccexbkmqygkxoyndmcxnwqarhyffsjpsrabtjzsypmzadfavyrnndndvswreauxovncxtwzpwejilzjrmmbbgbyxvjtewqthafnbkqplarokkyydtubbmnexoypulzwfhqvckdpqtpoppzqrmcvhhpwgjwupgzhiofohawytlsiyecuproguy'"
   ]
  },
  {
   "cell_type": "code",
   "execution_count": 113,
   "id": "edc2d2a3-12bd-42dc-a2bb-bb8d83a24130",
   "metadata": {
    "tags": []
   },
   "outputs": [
    {
     "data": {
      "text/plain": [
       "0      h\n",
       "1      n\n",
       "2      v\n",
       "3      i\n",
       "4      d\n",
       "      ..\n",
       "195    r\n",
       "196    o\n",
       "197    g\n",
       "198    u\n",
       "199    y\n",
       "Length: 200, dtype: object"
      ]
     },
     "execution_count": 113,
     "metadata": {},
     "output_type": "execute_result"
    }
   ],
   "source": [
    "letters = pd.Series(list('hnvidduckkqxwymbimkccexbkmqygkxoyndmcxnwqar' \\\n",
    "                            'hyffsjpsrabtjzsypmzadfavyrnndndvswreauxovn' \\\n",
    "                            'cxtwzpwejilzjrmmbbgbyxvjtewqthafnbkqplarokk' \\\n",
    "                            'yydtubbmnexoypulzwfhqvckdpqtpoppzqrmcvhhpwgj' \\\n",
    "                            'wupgzhiofohawytlsiyecuproguy'))\n",
    "letters"
   ]
  },
  {
   "cell_type": "markdown",
   "id": "8449bb09-47bc-44dd-b0a9-0c9c888731cc",
   "metadata": {},
   "source": [
    "## 1. Which letter occurs the most frequently in the letters Series?"
   ]
  },
  {
   "cell_type": "code",
   "execution_count": 114,
   "id": "297352e6-d4c7-4ef5-9c9d-49247b45e404",
   "metadata": {
    "tags": []
   },
   "outputs": [
    {
     "data": {
      "text/plain": [
       "count     200\n",
       "unique     26\n",
       "top         y\n",
       "freq       13\n",
       "dtype: object"
      ]
     },
     "execution_count": 114,
     "metadata": {},
     "output_type": "execute_result"
    }
   ],
   "source": [
    "letters.describe()"
   ]
  },
  {
   "cell_type": "markdown",
   "id": "7ca13bae-fa79-4389-a776-5152b72fa696",
   "metadata": {},
   "source": [
    "## 2. Which letter occurs the Least frequently?"
   ]
  },
  {
   "cell_type": "code",
   "execution_count": 115,
   "id": "da35fa23-6505-4821-9033-70bb5d10c2a2",
   "metadata": {
    "tags": []
   },
   "outputs": [
    {
     "data": {
      "text/plain": [
       "'y'"
      ]
     },
     "execution_count": 115,
     "metadata": {},
     "output_type": "execute_result"
    }
   ],
   "source": [
    "# idxmax/idxmin = Return index of the maximum/minimum element.\n",
    "letters.value_counts().idxmax()"
   ]
  },
  {
   "cell_type": "markdown",
   "id": "494b3511-88f1-46f0-a68f-68e51697a7fe",
   "metadata": {},
   "source": [
    "## 3. How many vowels are in the Series?"
   ]
  },
  {
   "cell_type": "code",
   "execution_count": 116,
   "id": "49549bb6-c9ba-4927-861e-1b2e17e6b052",
   "metadata": {
    "tags": []
   },
   "outputs": [
    {
     "data": {
      "text/plain": [
       "34"
      ]
     },
     "execution_count": 116,
     "metadata": {},
     "output_type": "execute_result"
    }
   ],
   "source": [
    "letters.str.lower().apply(count_vowels).sum()"
   ]
  },
  {
   "cell_type": "markdown",
   "id": "7a68fbca-95f5-4e4c-97c1-127263729194",
   "metadata": {},
   "source": [
    "## 4. How many consonants are in the Series?"
   ]
  },
  {
   "cell_type": "code",
   "execution_count": 118,
   "id": "6d322f57-6f47-475f-9802-a873e555d52f",
   "metadata": {
    "tags": []
   },
   "outputs": [
    {
     "data": {
      "text/plain": [
       "166"
      ]
     },
     "execution_count": 118,
     "metadata": {},
     "output_type": "execute_result"
    }
   ],
   "source": [
    "(~letters.str.lower().apply(count_vowels)).sum()"
   ]
  },
  {
   "cell_type": "markdown",
   "id": "dbf3a771-26e0-4562-aa32-1eb1c31368b1",
   "metadata": {},
   "source": [
    "## 5. Create a Series that has all of the same letters but uppercased."
   ]
  },
  {
   "cell_type": "code",
   "execution_count": 119,
   "id": "4b3104d1-b37d-42b9-9636-eab5451a9b95",
   "metadata": {
    "tags": []
   },
   "outputs": [
    {
     "data": {
      "text/plain": [
       "0      H\n",
       "1      N\n",
       "2      V\n",
       "3      I\n",
       "4      D\n",
       "      ..\n",
       "195    R\n",
       "196    O\n",
       "197    G\n",
       "198    U\n",
       "199    Y\n",
       "Length: 200, dtype: object"
      ]
     },
     "execution_count": 119,
     "metadata": {},
     "output_type": "execute_result"
    }
   ],
   "source": [
    "letters.str.upper()"
   ]
  },
  {
   "cell_type": "markdown",
   "id": "60323326-d0d5-48d4-b199-0f3d99723eac",
   "metadata": {},
   "source": [
    "## 6. Create a bar plot of the frequencies of the 6 most commonly occuring letters."
   ]
  },
  {
   "cell_type": "code",
   "execution_count": 120,
   "id": "270b2989-54d5-449e-8e1e-2ddd2fe7dd70",
   "metadata": {
    "tags": []
   },
   "outputs": [
    {
     "data": {
      "image/png": "[encoded data removed]",
      "text/plain": [
       "<Figure size 640x480 with 1 Axes>"
      ]
     },
     "metadata": {},
     "output_type": "display_data"
    }
   ],
   "source": [
    "# 6 most commonly occuring letters\n",
    "sixMost = letters.value_counts().nlargest(n=6)\n",
    "\n",
    "import matplotlib.pyplot as plt\n",
    "\n",
    "# one way to plot\n",
    "plt.bar(sixMost.index,sixMost.values)\n",
    "\n",
    "plt.show() # removes object output"
   ]
  },
  {
   "cell_type": "markdown",
   "id": "5aa859d3-98ff-4dc2-a080-548caeb45578",
   "metadata": {
    "tags": []
   },
   "source": [
    "## Use pandas to create a Series named numbers from the following list:\n"
   ]
  },
  {
   "cell_type": "code",
   "execution_count": null,
   "id": "1473ae27-72e8-4e4d-baa8-e988c7df3d55",
   "metadata": {},
   "outputs": [],
   "source": [
    "['$796,459.41', '$278.60', '$482,571.67', '$4,503,915.98', '$2,121,418.3', '$1,260,813.3', '$87,231.01', '$1,509,175.45', '$4,138,548.00', '$2,848,913.80', '$594,715.39', '$4,789,988.17', '$4,513,644.5', '$3,191,059.97', '$1,758,712.24', '$4,338,283.54', '$4,738,303.38', '$2,791,759.67', '$769,681.94', '$452,650.23']"
   ]
  },
  {
   "cell_type": "code",
   "execution_count": 55,
   "id": "5d83b14c-b777-4ec9-857d-f27437eddc7e",
   "metadata": {
    "tags": []
   },
   "outputs": [
    {
     "data": {
      "text/plain": [
       "0       $796,459.41\n",
       "1           $278.60\n",
       "2       $482,571.67\n",
       "3     $4,503,915.98\n",
       "4      $2,121,418.3\n",
       "5      $1,260,813.3\n",
       "6        $87,231.01\n",
       "7     $1,509,175.45\n",
       "8     $4,138,548.00\n",
       "9     $2,848,913.80\n",
       "10      $594,715.39\n",
       "11    $4,789,988.17\n",
       "12     $4,513,644.5\n",
       "13    $3,191,059.97\n",
       "14    $1,758,712.24\n",
       "15    $4,338,283.54\n",
       "16    $4,738,303.38\n",
       "17    $2,791,759.67\n",
       "18      $769,681.94\n",
       "19      $452,650.23\n",
       "dtype: object"
      ]
     },
     "execution_count": 55,
     "metadata": {},
     "output_type": "execute_result"
    }
   ],
   "source": [
    "numbers = pd.Series(['$796,459.41', '$278.60', '$482,571.67', '$4,503,915.98', '$2,121,418.3', '$1,260,813.3', '$87,231.01', '$1,509,175.45', '$4,138,548.00', '$2,848,913.80', '$594,715.39', '$4,789,988.17', '$4,513,644.5', '$3,191,059.97', '$1,758,712.24', '$4,338,283.54', '$4,738,303.38', '$2,791,759.67', '$769,681.94', '$452,650.23'])\n",
    "numbers"
   ]
  },
  {
   "cell_type": "markdown",
   "id": "ded61b35-c079-4562-9329-a0c72d5885e2",
   "metadata": {},
   "source": [
    "## 1. What is the data type of the numbers Series?"
   ]
  },
  {
   "cell_type": "code",
   "execution_count": 57,
   "id": "b6e0fbdc-fb92-4bdc-aee2-253d10bf21af",
   "metadata": {
    "tags": []
   },
   "outputs": [
    {
     "data": {
      "text/plain": [
       "dtype('O')"
      ]
     },
     "execution_count": 57,
     "metadata": {},
     "output_type": "execute_result"
    }
   ],
   "source": [
    "numbers.dtype"
   ]
  },
  {
   "cell_type": "markdown",
   "id": "f956911c-814e-47e0-a017-1b27dee6af10",
   "metadata": {},
   "source": [
    "## 2. How many elements are in the number Series?"
   ]
  },
  {
   "cell_type": "code",
   "execution_count": 60,
   "id": "fbb6adfd-8200-4346-9a85-d73ade29972b",
   "metadata": {
    "tags": []
   },
   "outputs": [
    {
     "data": {
      "text/plain": [
       "20"
      ]
     },
     "execution_count": 60,
     "metadata": {},
     "output_type": "execute_result"
    }
   ],
   "source": [
    "numbers.size"
   ]
  },
  {
   "cell_type": "markdown",
   "id": "eab3a6eb-a039-4d57-a83e-bfd5fa6f932a",
   "metadata": {},
   "source": [
    "## 3. Perform the necessary manipulations by accessing Series attributes and methods to convert the numbers Series to a numeric data type."
   ]
  },
  {
   "cell_type": "code",
   "execution_count": 102,
   "id": "0491546f-bde8-4973-9c30-376f07e2f81e",
   "metadata": {
    "tags": []
   },
   "outputs": [
    {
     "data": {
      "text/plain": [
       "dtype('float64')"
      ]
     },
     "execution_count": 102,
     "metadata": {},
     "output_type": "execute_result"
    }
   ],
   "source": [
    "numbers = numbers.str.replace('$', '').str.replace(',','').astype('float')\n",
    "numbers.dtype                                                                 \n",
    "                                                                  "
   ]
  },
  {
   "cell_type": "markdown",
   "id": "5eba7afb-2b97-4dc0-9c96-c7fa9d19b482",
   "metadata": {},
   "source": [
    "## 4. Run the code to discover the maximum value from the Series."
   ]
  },
  {
   "cell_type": "code",
   "execution_count": 103,
   "id": "fa5078f4-d5a9-4e4b-b65b-4650535848cf",
   "metadata": {
    "tags": []
   },
   "outputs": [
    {
     "data": {
      "text/plain": [
       "4789988.17"
      ]
     },
     "execution_count": 103,
     "metadata": {},
     "output_type": "execute_result"
    }
   ],
   "source": [
    "numbers.max()"
   ]
  },
  {
   "cell_type": "markdown",
   "id": "7fa0c111-be1a-41e1-a435-958fe376200f",
   "metadata": {},
   "source": [
    "## 5. Run the code to discover the minimum value from the Series."
   ]
  },
  {
   "cell_type": "code",
   "execution_count": 104,
   "id": "977a931d-52de-442e-8b30-9235845ab9d4",
   "metadata": {
    "tags": []
   },
   "outputs": [
    {
     "data": {
      "text/plain": [
       "278.6"
      ]
     },
     "execution_count": 104,
     "metadata": {},
     "output_type": "execute_result"
    }
   ],
   "source": [
    "numbers.min()"
   ]
  },
  {
   "cell_type": "markdown",
   "id": "dbed9d1f-c381-4e57-9a3b-c9c6bb1ef365",
   "metadata": {},
   "source": [
    "## 6. What is the range of the values in the Series?"
   ]
  },
  {
   "cell_type": "code",
   "execution_count": 121,
   "id": "43a5e0db-a8de-4622-b5fb-f281a8ad3aca",
   "metadata": {
    "tags": []
   },
   "outputs": [
    {
     "name": "stdout",
     "output_type": "stream",
     "text": [
      "  Range of Values\n",
      " ----------------- \n",
      " 278.6 - 4789988.17\n"
     ]
    }
   ],
   "source": [
    "print(f'  Range of Values\\n ----------------- \\n {numbers.min()} - {numbers.max()}')"
   ]
  },
  {
   "cell_type": "markdown",
   "id": "e230c103-f72f-4dfb-9a6b-778a3cdedefe",
   "metadata": {},
   "source": [
    "## 7. Bin the data into 4 equally sized intervals or bins and output how many values fall into each bin."
   ]
  },
  {
   "cell_type": "code",
   "execution_count": 107,
   "id": "2ecd2185-6187-4e5d-b520-b97060ae2a26",
   "metadata": {
    "tags": []
   },
   "outputs": [
    {
     "data": {
      "text/plain": [
       "(-4511.11, 1197705.993]       7\n",
       "(3592560.778, 4789988.17]     6\n",
       "(1197705.993, 2395133.385]    4\n",
       "(2395133.385, 3592560.778]    3\n",
       "Name: count, dtype: int64"
      ]
     },
     "execution_count": 107,
     "metadata": {},
     "output_type": "execute_result"
    }
   ],
   "source": [
    "pd.cut(numbers,bins=4).value_counts()"
   ]
  },
  {
   "cell_type": "markdown",
   "id": "e52e1c1c-fc32-44d7-a801-77691b75d073",
   "metadata": {},
   "source": [
    "## 8. Plot the binned data in a meaningful way. Be sure to include a title and axis labels."
   ]
  },
  {
   "cell_type": "code",
   "execution_count": 122,
   "id": "f6264772-3e47-4d80-97a8-593e3f6c6455",
   "metadata": {
    "tags": []
   },
   "outputs": [
    {
     "data": {
      "image/png": "[encoded data removed]",
      "text/plain": [
       "<Figure size 640x480 with 1 Axes>"
      ]
     },
     "metadata": {},
     "output_type": "display_data"
    }
   ],
   "source": [
    "pd.cut(numbers,bins=4).value_counts().sort_index().plot(kind='barh')\n",
    "plt.title('Series Composition After Binning')\n",
    "plt.xlabel('[Count]')\n",
    "plt.ylabel('[$ bins]')\n",
    "plt.show()"
   ]
  },
  {
   "cell_type": "markdown",
   "id": "362fec98-ab4c-4a3d-bd0c-7c29ca2068f9",
   "metadata": {
    "tags": []
   },
   "source": [
    "## Use pandas to create a Series named exam_scores from the following list:\n"
   ]
  },
  {
   "cell_type": "code",
   "execution_count": null,
   "id": "425cbfcd-3df1-414a-baaa-c1170536bcca",
   "metadata": {},
   "outputs": [],
   "source": [
    "[60, 86, 75, 62, 93, 71, 60, 83, 95, 78, 65, 72, 69, 81, 96, 80, 85, 92, 82, 78]"
   ]
  },
  {
   "cell_type": "code",
   "execution_count": 38,
   "id": "e236d01a-3a61-4150-9cf4-b5094c9603c6",
   "metadata": {
    "tags": []
   },
   "outputs": [
    {
     "data": {
      "text/plain": [
       "0     60\n",
       "1     86\n",
       "2     75\n",
       "3     62\n",
       "4     93\n",
       "5     71\n",
       "6     60\n",
       "7     83\n",
       "8     95\n",
       "9     78\n",
       "10    65\n",
       "11    72\n",
       "12    69\n",
       "13    81\n",
       "14    96\n",
       "15    80\n",
       "16    85\n",
       "17    92\n",
       "18    82\n",
       "19    78\n",
       "dtype: int64"
      ]
     },
     "execution_count": 38,
     "metadata": {},
     "output_type": "execute_result"
    }
   ],
   "source": [
    "exam_scores = pd.Series([60, 86, 75, 62, 93, 71, 60, 83, 95, 78, 65, 72, 69, 81, 96, 80, 85, 92, 82, 78])\n",
    "exam_scores"
   ]
  },
  {
   "cell_type": "markdown",
   "id": "b14eb59f-37f2-46aa-a7bb-72c8abbab1a4",
   "metadata": {},
   "source": [
    "## 1. How many elements are in the exam_scores Series?"
   ]
  },
  {
   "cell_type": "code",
   "execution_count": 69,
   "id": "e80731f8-64c6-42d1-a8f7-4c2db62bf189",
   "metadata": {
    "tags": []
   },
   "outputs": [
    {
     "data": {
      "text/plain": [
       "20"
      ]
     },
     "execution_count": 69,
     "metadata": {},
     "output_type": "execute_result"
    }
   ],
   "source": [
    "exam_scores.size"
   ]
  },
  {
   "cell_type": "markdown",
   "id": "cb00f804-fe85-429a-872f-e468d3ec555d",
   "metadata": {},
   "source": [
    "## 2. Run the code to discover the minimum, the maximum, the mean, and the median scores for the exam_scores Series."
   ]
  },
  {
   "cell_type": "code",
   "execution_count": 109,
   "id": "c931de98-069d-4add-ad9e-873cdecd6780",
   "metadata": {
    "tags": []
   },
   "outputs": [
    {
     "data": {
      "text/plain": [
       "(60, 96, 78.15, 79.0)"
      ]
     },
     "execution_count": 109,
     "metadata": {},
     "output_type": "execute_result"
    }
   ],
   "source": [
    "exam_scores.min(), exam_scores.max(), exam_scores.mean(), exam_scores.median()\n",
    "# exam_scores.describe()"
   ]
  },
  {
   "cell_type": "markdown",
   "id": "4bc24b71-42e9-4fa7-91e2-54f277b6d812",
   "metadata": {},
   "source": [
    "## 3. Plot the Series in a meaningful way and make sure your chart has a title and axis labels."
   ]
  },
  {
   "cell_type": "code",
   "execution_count": 111,
   "id": "279cda35-a230-4124-8768-22c2cc28fdd6",
   "metadata": {
    "tags": []
   },
   "outputs": [
    {
     "data": {
      "text/plain": [
       "[Text(0.5, 0, 'id'), Text(0, 0.5, 'grade')]"
      ]
     },
     "execution_count": 111,
     "metadata": {},
     "output_type": "execute_result"
    },
    {
     "data": {
      "image/png": "[encoded data removed]",
      "text/plain": [
       "<Figure size 640x480 with 1 Axes>"
      ]
     },
     "metadata": {},
     "output_type": "display_data"
    }
   ],
   "source": [
    "exam_scores.plot.bar(title='exam scores',\n",
    "                                    rot=0,\n",
    "                                    color='green',\n",
    "                                    ec='black',\n",
    "                                    width=.9).set(xlabel='id',\n",
    "                                                  ylabel='grade')"
   ]
  },
  {
   "cell_type": "markdown",
   "id": "c73b9d27-ab22-472d-8654-5366759a6f0d",
   "metadata": {},
   "source": [
    "## 4. Write the code necessary to implement a curve for your exam_grades Series and save this as curved_grades. Add the necessary points to the highest grade to make it 100, and add the same number of points to every other score in the Series as well."
   ]
  },
  {
   "cell_type": "code",
   "execution_count": 123,
   "id": "75f94d5c-f64c-47b1-afd8-1a78fc01ce53",
   "metadata": {
    "tags": []
   },
   "outputs": [
    {
     "name": "stdout",
     "output_type": "stream",
     "text": [
      "Original Grades:\n",
      " 0     60\n",
      "1     86\n",
      "2     75\n",
      "3     62\n",
      "4     93\n",
      "5     71\n",
      "6     60\n",
      "7     83\n",
      "8     95\n",
      "9     78\n",
      "10    65\n",
      "11    72\n",
      "12    69\n",
      "13    81\n",
      "14    96\n",
      "15    80\n",
      "16    85\n",
      "17    92\n",
      "18    82\n",
      "19    78\n",
      "dtype: int64\n",
      "\n",
      "Curved Grades:\n",
      " 0      64\n",
      "1      90\n",
      "2      79\n",
      "3      66\n",
      "4      97\n",
      "5      75\n",
      "6      64\n",
      "7      87\n",
      "8      99\n",
      "9      82\n",
      "10     69\n",
      "11     76\n",
      "12     73\n",
      "13     85\n",
      "14    100\n",
      "15     84\n",
      "16     89\n",
      "17     96\n",
      "18     86\n",
      "19     82\n",
      "dtype: int64\n"
     ]
    }
   ],
   "source": [
    "pts_to_add = 100 - exam_scores.max()\n",
    "\n",
    "\n",
    "print(f'Original Grades:\\n {exam_scores}')\n",
    "\n",
    "curved_grades = exam_scores + pts_to_add\n",
    "\n",
    "print(f'\\nCurved Grades:\\n {curved_grades}')"
   ]
  },
  {
   "cell_type": "markdown",
   "id": "70fcdc74-b06a-4096-96ec-d2b2581d50b5",
   "metadata": {},
   "source": [
    "## 5. Use a method to convert each of the numeric values in the curved_grades Series into a categorical value of letter grades. For example, 86 should be a 'B' and 95 should be an 'A'. Save this as a Series named letter_grades."
   ]
  },
  {
   "cell_type": "code",
   "execution_count": 125,
   "id": "409e6c95-9dba-4df5-9a76-008a4da9b726",
   "metadata": {
    "tags": []
   },
   "outputs": [
    {
     "data": {
      "text/plain": [
       "0     D\n",
       "1     A\n",
       "2     C\n",
       "3     D\n",
       "4     A\n",
       "5     C\n",
       "6     D\n",
       "7     B\n",
       "8     A\n",
       "9     B\n",
       "10    D\n",
       "11    C\n",
       "12    C\n",
       "13    B\n",
       "14    A\n",
       "15    B\n",
       "16    B\n",
       "17    A\n",
       "18    B\n",
       "19    B\n",
       "dtype: category\n",
       "Categories (5, object): ['F' < 'D' < 'C' < 'B' < 'A']"
      ]
     },
     "execution_count": 125,
     "metadata": {},
     "output_type": "execute_result"
    }
   ],
   "source": [
    "# using cut() function argurmnets\n",
    "bin_edges = [0, 59, 69, 79, 89,100]\n",
    "bin_labels = ['F', 'D', 'C', 'B', 'A']\n",
    "letter_grades = pd.cut(curved_grades, bins=bin_edges, labels=bin_labels)\n",
    "letter_grades"
   ]
  },
  {
   "cell_type": "markdown",
   "id": "e6d96016-42b4-4f87-ae3d-b837ba878391",
   "metadata": {},
   "source": [
    "## 6. Plot your new categorical letter_grades Series in a meaninful way and include a title and axis labels."
   ]
  },
  {
   "cell_type": "code",
   "execution_count": 126,
   "id": "1d9ab20c-4ed4-488b-a988-ee4756b76764",
   "metadata": {
    "tags": []
   },
   "outputs": [
    {
     "data": {
      "image/png": "[encoded data removed]",
      "text/plain": [
       "<Figure size 640x480 with 1 Axes>"
      ]
     },
     "metadata": {},
     "output_type": "display_data"
    }
   ],
   "source": [
    "letter_grades.value_counts().sort_index().plot.barh()\n",
    "plt.title('Curved Letter Grade Distribution')\n",
    "plt.show()"
   ]
  }
 ],
 "metadata": {
  "kernelspec": {
   "display_name": "Python 3 (ipykernel)",
   "language": "python",
   "name": "python3"
  },
  "language_info": {
   "codemirror_mode": {
    "name": "ipython",
    "version": 3
   },
   "file_extension": ".py",
   "mimetype": "text/x-python",
   "name": "python",
   "nbconvert_exporter": "python",
   "pygments_lexer": "ipython3",
   "version": "3.11.5"
  }
 },
 "nbformat": 4,
 "nbformat_minor": 5
}
