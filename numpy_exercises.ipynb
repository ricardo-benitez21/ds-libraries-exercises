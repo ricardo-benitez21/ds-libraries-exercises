{
 "cells": [
  {
   "cell_type": "markdown",
   "id": "3974c481-3abe-43b2-89ae-a36decfbf0c1",
   "metadata": {},
   "source": [
    "## Use the following code for the questions below :"
   ]
  },
  {
   "cell_type": "code",
   "execution_count": 74,
   "id": "2d869ab9-b58a-4b22-903f-b3aff1fd1b48",
   "metadata": {
    "tags": []
   },
   "outputs": [],
   "source": [
    "import numpy as np\n",
    "a = np.array([4, 10, 12, 23, -2, -1, 0, 0, 0, -6, 3, -7])"
   ]
  },
  {
   "cell_type": "markdown",
   "id": "454f1b42-a826-4860-aca8-f53bbc676e28",
   "metadata": {},
   "source": [
    "## 1. How many negative numbers are there?"
   ]
  },
  {
   "cell_type": "code",
   "execution_count": 75,
   "id": "946e2e55-d2fa-4f0a-9ab2-e37ae79e7ce6",
   "metadata": {
    "tags": []
   },
   "outputs": [
    {
     "data": {
      "text/plain": [
       "array([-2, -1, -6, -7])"
      ]
     },
     "execution_count": 75,
     "metadata": {},
     "output_type": "execute_result"
    }
   ],
   "source": [
    "mask = (a < 0)\n",
    "a [mask]"
   ]
  },
  {
   "cell_type": "code",
   "execution_count": 76,
   "id": "8181b369-67bd-4238-8e1d-8ddc57e4d411",
   "metadata": {
    "tags": []
   },
   "outputs": [
    {
     "data": {
      "text/plain": [
       "4"
      ]
     },
     "execution_count": 76,
     "metadata": {},
     "output_type": "execute_result"
    }
   ],
   "source": [
    "len(a[mask])"
   ]
  },
  {
   "cell_type": "markdown",
   "id": "b88d144f-7505-4364-b397-91baa49067f1",
   "metadata": {},
   "source": [
    "### 1a. There are 4 negative numbers"
   ]
  },
  {
   "cell_type": "markdown",
   "id": "21c77b56-4e7c-4b56-ada1-1b2b05c366bf",
   "metadata": {},
   "source": [
    "## 2. How many positive numbers are there?"
   ]
  },
  {
   "cell_type": "code",
   "execution_count": 4,
   "id": "7cc7f6ba-36eb-405b-9fdb-0135c12ef6b1",
   "metadata": {
    "tags": []
   },
   "outputs": [
    {
     "data": {
      "text/plain": [
       "array([ 4, 10, 12, 23,  3])"
      ]
     },
     "execution_count": 4,
     "metadata": {},
     "output_type": "execute_result"
    }
   ],
   "source": [
    "mask = (a > 0)\n",
    "a [mask]"
   ]
  },
  {
   "cell_type": "markdown",
   "id": "ab270596-26f0-4f5f-8967-994f5d23b481",
   "metadata": {},
   "source": [
    "### 2a. There are 5 positive numbers "
   ]
  },
  {
   "cell_type": "markdown",
   "id": "67f33f9e-0d29-477d-81c4-e503b3d15b96",
   "metadata": {},
   "source": [
    "## 3. How many even positive numbers are there"
   ]
  },
  {
   "cell_type": "code",
   "execution_count": 9,
   "id": "947327c0-4c72-46fa-ba88-a1ea3348d662",
   "metadata": {
    "tags": []
   },
   "outputs": [
    {
     "data": {
      "text/plain": [
       "array([ 4, 10, 12])"
      ]
     },
     "execution_count": 9,
     "metadata": {},
     "output_type": "execute_result"
    }
   ],
   "source": [
    "mask = (a > 0) & (a % 2 == 0)\n",
    "a [mask]"
   ]
  },
  {
   "cell_type": "markdown",
   "id": "b7a54ea5-88bc-4226-925b-311deb907f09",
   "metadata": {},
   "source": [
    "### 3a. There are 3 even positive numbers "
   ]
  },
  {
   "cell_type": "markdown",
   "id": "ddbd028b-9dc9-4470-b068-f3645d310b95",
   "metadata": {},
   "source": [
    "## 4. If you were to add 3 to each data point, how many positive numbers would there be?"
   ]
  },
  {
   "cell_type": "code",
   "execution_count": 77,
   "id": "aa5b5a1c-b961-415b-9d5d-0450d2fe4918",
   "metadata": {},
   "outputs": [
    {
     "data": {
      "text/plain": [
       "10"
      ]
     },
     "execution_count": 77,
     "metadata": {},
     "output_type": "execute_result"
    }
   ],
   "source": [
    "((a + 3) > 0).sum()\n"
   ]
  },
  {
   "cell_type": "code",
   "execution_count": 78,
   "id": "11287121-f516-4aec-b57c-6aebcf5c5913",
   "metadata": {
    "tags": []
   },
   "outputs": [
    {
     "data": {
      "text/plain": [
       "array([ 7, 13, 15, 26,  1,  2,  3,  3,  3,  6])"
      ]
     },
     "execution_count": 78,
     "metadata": {},
     "output_type": "execute_result"
    }
   ],
   "source": [
    "(a+3) [(a+3) > 0]"
   ]
  },
  {
   "cell_type": "markdown",
   "id": "9d6d5036-7fb7-4289-8dba-104a188bbd98",
   "metadata": {},
   "source": [
    "### 4a. There would be 10 positive numbers"
   ]
  },
  {
   "cell_type": "markdown",
   "id": "c52433fd-e81f-4fd0-9d85-85706d3fbd8f",
   "metadata": {},
   "source": [
    "## 5. If you squared each number, what would the new mean and standard deviation be?"
   ]
  },
  {
   "cell_type": "code",
   "execution_count": 17,
   "id": "a6f72af7-a789-4856-8544-01275d7f7d09",
   "metadata": {
    "tags": []
   },
   "outputs": [
    {
     "data": {
      "text/plain": [
       "3.0"
      ]
     },
     "execution_count": 17,
     "metadata": {},
     "output_type": "execute_result"
    }
   ],
   "source": [
    "np.mean(a)\n"
   ]
  },
  {
   "cell_type": "code",
   "execution_count": 16,
   "id": "0c7180bb-939f-4cf0-822b-e0d57a23e373",
   "metadata": {
    "tags": []
   },
   "outputs": [
    {
     "data": {
      "text/plain": [
       "74.0"
      ]
     },
     "execution_count": 16,
     "metadata": {},
     "output_type": "execute_result"
    }
   ],
   "source": [
    "np.mean(a ** 2)"
   ]
  },
  {
   "cell_type": "code",
   "execution_count": 18,
   "id": "386f4703-86b8-48c1-accb-ae4d52337293",
   "metadata": {
    "tags": []
   },
   "outputs": [
    {
     "data": {
      "text/plain": [
       "8.06225774829855"
      ]
     },
     "execution_count": 18,
     "metadata": {},
     "output_type": "execute_result"
    }
   ],
   "source": [
    "np.std(a)"
   ]
  },
  {
   "cell_type": "code",
   "execution_count": 19,
   "id": "c3248e0f-f4af-4c8b-816c-bb002d109df4",
   "metadata": {
    "tags": []
   },
   "outputs": [
    {
     "data": {
      "text/plain": [
       "144.0243035046516"
      ]
     },
     "execution_count": 19,
     "metadata": {},
     "output_type": "execute_result"
    }
   ],
   "source": [
    "np.std(a ** 2)"
   ]
  },
  {
   "cell_type": "markdown",
   "id": "782e1db7-3f7e-465f-abfb-9e11d50d8ce9",
   "metadata": {},
   "source": [
    "### 5a. The new mean would be 74 and the new std would be 144.02"
   ]
  },
  {
   "cell_type": "markdown",
   "id": "36a0872f-2ab8-4100-80c1-336fe8fa6538",
   "metadata": {},
   "source": [
    "## 6. A common statistical operation on a dataset is centering. This means to adjust the data such that the mean of the data is 0. This is done by subtracting the mean from each data point. Center the data set. "
   ]
  },
  {
   "cell_type": "code",
   "execution_count": 79,
   "id": "693ba8d6-6ff9-4084-a920-c4d57495db93",
   "metadata": {
    "tags": []
   },
   "outputs": [
    {
     "data": {
      "text/plain": [
       "array([ 4, 10, 12, 23, -2, -1,  0,  0,  0, -6,  3, -7])"
      ]
     },
     "execution_count": 79,
     "metadata": {},
     "output_type": "execute_result"
    }
   ],
   "source": [
    "a"
   ]
  },
  {
   "cell_type": "code",
   "execution_count": 80,
   "id": "67a68757-df22-4eee-8237-1e25d525895b",
   "metadata": {
    "tags": []
   },
   "outputs": [
    {
     "data": {
      "text/plain": [
       "3.0"
      ]
     },
     "execution_count": 80,
     "metadata": {},
     "output_type": "execute_result"
    }
   ],
   "source": [
    "a.mean()"
   ]
  },
  {
   "cell_type": "code",
   "execution_count": 82,
   "id": "65c727fb-df69-44ed-813c-65522449f0a8",
   "metadata": {
    "tags": []
   },
   "outputs": [
    {
     "data": {
      "text/plain": [
       "array([  1.,   7.,   9.,  20.,  -5.,  -4.,  -3.,  -3.,  -3.,  -9.,   0.,\n",
       "       -10.])"
      ]
     },
     "execution_count": 82,
     "metadata": {},
     "output_type": "execute_result"
    }
   ],
   "source": [
    "a_centered = a - (a.mean())\n",
    "a_centered"
   ]
  },
  {
   "cell_type": "markdown",
   "id": "070f8858-7188-4124-9891-b6647854b394",
   "metadata": {},
   "source": [
    "## 7. Calculate the z-score for each data point"
   ]
  },
  {
   "cell_type": "code",
   "execution_count": 83,
   "id": "c343e78c-2927-4bb2-a4f5-dd8b5f281944",
   "metadata": {
    "tags": []
   },
   "outputs": [
    {
     "data": {
      "text/plain": [
       "array([ 0.12403473,  0.86824314,  1.11631261,  2.48069469, -0.62017367,\n",
       "       -0.49613894, -0.3721042 , -0.3721042 , -0.3721042 , -1.11631261,\n",
       "        0.        , -1.24034735])"
      ]
     },
     "execution_count": 83,
     "metadata": {},
     "output_type": "execute_result"
    }
   ],
   "source": [
    "(a - a.mean()) / a.std()"
   ]
  },
  {
   "cell_type": "markdown",
   "id": "e6561998-a213-48ba-bf0a-88e68e730dd7",
   "metadata": {},
   "source": [
    "## 8. Copy the setup and exercise directions from More Numpy Practice into your numpy_exercises.py and add your solutions."
   ]
  },
  {
   "cell_type": "code",
   "execution_count": 84,
   "id": "b7d58c33-6204-485c-87d8-728ea385f5e1",
   "metadata": {
    "tags": []
   },
   "outputs": [],
   "source": [
    "import numpy as np\n",
    "a = [1, 2, 3, 4, 5, 6, 7, 8, 9, 10]"
   ]
  },
  {
   "cell_type": "markdown",
   "id": "92b55bfd-8811-4ea0-91c2-bc94e3458591",
   "metadata": {},
   "source": [
    "## Exercise 1 - Make a variable called sum_of_a to hold the sum of all the numbers in above list"
   ]
  },
  {
   "cell_type": "code",
   "execution_count": 90,
   "id": "6e12fbd4-fca3-434b-a3bd-30e4676df1f6",
   "metadata": {
    "tags": []
   },
   "outputs": [
    {
     "data": {
      "text/plain": [
       "55"
      ]
     },
     "execution_count": 90,
     "metadata": {},
     "output_type": "execute_result"
    }
   ],
   "source": [
    "sum(a)"
   ]
  },
  {
   "cell_type": "markdown",
   "id": "0dd3640d-d636-4b0e-8066-2960a7f2c0f0",
   "metadata": {},
   "source": [
    "## Exercise 2 - Make a variable named min_of_a to hold the minimum of all the numbers in the above list"
   ]
  },
  {
   "cell_type": "code",
   "execution_count": 91,
   "id": "027fd567-b266-4348-8ea4-34c126d23107",
   "metadata": {
    "tags": []
   },
   "outputs": [
    {
     "data": {
      "text/plain": [
       "1"
      ]
     },
     "execution_count": 91,
     "metadata": {},
     "output_type": "execute_result"
    }
   ],
   "source": [
    "min(a)"
   ]
  },
  {
   "cell_type": "markdown",
   "id": "e269bd65-a11d-49da-b87a-4347dca5a865",
   "metadata": {},
   "source": [
    "## Exercise 3 - Make a variable named max_of_a to hold the max number of all the numbers in the above list"
   ]
  },
  {
   "cell_type": "code",
   "execution_count": 92,
   "id": "7f38dd45-f1cf-4afe-9bec-1b51a01b1677",
   "metadata": {
    "tags": []
   },
   "outputs": [
    {
     "data": {
      "text/plain": [
       "10"
      ]
     },
     "execution_count": 92,
     "metadata": {},
     "output_type": "execute_result"
    }
   ],
   "source": [
    "max(a)"
   ]
  },
  {
   "cell_type": "markdown",
   "id": "3b32795b-d33a-42bb-a6f4-afa17da71929",
   "metadata": {},
   "source": [
    "## Exercise 4 - Make a variable named mean_of_a to hold the average of all the numbers in the above list"
   ]
  },
  {
   "cell_type": "code",
   "execution_count": 25,
   "id": "d19e69c9-e0d9-49ad-827b-fd1acc9c6a96",
   "metadata": {
    "tags": []
   },
   "outputs": [
    {
     "data": {
      "text/plain": [
       "5.5"
      ]
     },
     "execution_count": 25,
     "metadata": {},
     "output_type": "execute_result"
    }
   ],
   "source": [
    "mean_of_a = np.mean(a)\n",
    "mean_of_a"
   ]
  },
  {
   "cell_type": "markdown",
   "id": "0dc4f776-a113-4e64-894d-e4da24639931",
   "metadata": {},
   "source": [
    "## Exercise 5 - Make a variable named product_of_a to hold the product of multiplying all the numbers in the above list together"
   ]
  },
  {
   "cell_type": "code",
   "execution_count": 26,
   "id": "c7bfb5ca-7589-46b0-a6d8-32b43d0b9b49",
   "metadata": {
    "tags": []
   },
   "outputs": [
    {
     "data": {
      "text/plain": [
       "3628800"
      ]
     },
     "execution_count": 26,
     "metadata": {},
     "output_type": "execute_result"
    }
   ],
   "source": [
    "product_of_a = np.prod(a)\n",
    "product_of_a"
   ]
  },
  {
   "cell_type": "markdown",
   "id": "be9f41d3-7bf8-486b-9b33-cc4e3af958f4",
   "metadata": {},
   "source": [
    "## Exercise 6 - Make a variable named squares_of_a. It should hold each number in a squared like [1, 4, 9, 16, 25...]"
   ]
  },
  {
   "cell_type": "code",
   "execution_count": 27,
   "id": "2e863dfb-885b-43ed-8213-af3a59faf6a5",
   "metadata": {
    "tags": []
   },
   "outputs": [
    {
     "data": {
      "text/plain": [
       "array([  1,   4,   9,  16,  25,  36,  49,  64,  81, 100])"
      ]
     },
     "execution_count": 27,
     "metadata": {},
     "output_type": "execute_result"
    }
   ],
   "source": [
    "squares_of_a = np.square(a)\n",
    "squares_of_a"
   ]
  },
  {
   "cell_type": "markdown",
   "id": "007f11cb-f500-4e2c-b1d3-3968a320426a",
   "metadata": {},
   "source": [
    "## Exercise 7 - Make a variable named odds_in_a. It should hold only the odd numbers"
   ]
  },
  {
   "cell_type": "code",
   "execution_count": 88,
   "id": "47657070-82dc-48af-b7eb-3cce6cd5dbc4",
   "metadata": {
    "tags": []
   },
   "outputs": [
    {
     "data": {
      "text/plain": [
       "[1, 3, 5, 7, 9]"
      ]
     },
     "execution_count": 88,
     "metadata": {},
     "output_type": "execute_result"
    }
   ],
   "source": [
    "odds_in_a = []\n",
    "\n",
    "for i in a:\n",
    "    if i % 2 == 1:\n",
    "        odds_in_a.append(i)\n",
    "odds_in_a"
   ]
  },
  {
   "cell_type": "markdown",
   "id": "cd174d54-fe14-4607-9396-e23db829aa39",
   "metadata": {},
   "source": [
    "## Exercise 8 - Make a variable named evens_in_a. It should hold only the evens.\n"
   ]
  },
  {
   "cell_type": "code",
   "execution_count": 89,
   "id": "02ea0cb1-c834-4b51-81d9-6001e59ca664",
   "metadata": {
    "tags": []
   },
   "outputs": [
    {
     "data": {
      "text/plain": [
       "[2, 4, 6, 8, 10]"
      ]
     },
     "execution_count": 89,
     "metadata": {},
     "output_type": "execute_result"
    }
   ],
   "source": [
    "evens_in_a = []\n",
    "\n",
    "for i in a:\n",
    "    if i % 2 == 0:\n",
    "        evens_in_a.append(i)\n",
    "evens_in_a"
   ]
  },
  {
   "cell_type": "markdown",
   "id": "a8fb8ec0-672a-42f6-aa0a-5b1eb5fdb91d",
   "metadata": {},
   "source": [
    "## Setup 2: Consider what it would take to find the sum, min, max, average, sum, product, and list of squares for this list of two lists."
   ]
  },
  {
   "cell_type": "code",
   "execution_count": 35,
   "id": "fe742ce3-0b2a-45b9-89a1-34152aad119d",
   "metadata": {
    "tags": []
   },
   "outputs": [],
   "source": [
    "b = [\n",
    "    [3, 4, 5],\n",
    "    [6, 7, 8]\n",
    "]"
   ]
  },
  {
   "cell_type": "code",
   "execution_count": 137,
   "id": "b6ee8748-5439-4058-b75a-5d6be8006bce",
   "metadata": {
    "tags": []
   },
   "outputs": [],
   "source": [
    "b = np.array(b)"
   ]
  },
  {
   "cell_type": "markdown",
   "id": "91968ad9-4029-4733-946b-77b83e0a5bf0",
   "metadata": {
    "tags": []
   },
   "source": [
    "## Exercise 1 - refactor the following to use numpy. Use sum_of_b as the variable. **Hint, you'll first need to make sure that the \"b\" variable is a numpy array**"
   ]
  },
  {
   "cell_type": "code",
   "execution_count": 38,
   "id": "4c452fad-ade4-4aca-9d50-11c28fb2d7f9",
   "metadata": {
    "tags": []
   },
   "outputs": [],
   "source": [
    "sum_of_b = 0\n",
    "for row in b:\n",
    "    sum_of_b += sum(row)"
   ]
  },
  {
   "cell_type": "code",
   "execution_count": 138,
   "id": "8838c772-ee12-4783-a4a7-2b55e05cc0d5",
   "metadata": {
    "tags": []
   },
   "outputs": [
    {
     "data": {
      "text/plain": [
       "33"
      ]
     },
     "execution_count": 138,
     "metadata": {},
     "output_type": "execute_result"
    }
   ],
   "source": [
    "np.sum(b)\n"
   ]
  },
  {
   "cell_type": "markdown",
   "id": "9b6e1f2f-0151-48df-8b17-c74b31fd21e3",
   "metadata": {
    "tags": []
   },
   "source": [
    "## Exercise 2 - refactor the following to use numpy"
   ]
  },
  {
   "cell_type": "code",
   "execution_count": 40,
   "id": "0aabfa43-36e0-4656-afe7-a12d349e501a",
   "metadata": {
    "tags": []
   },
   "outputs": [],
   "source": [
    "min_of_b = min(b[0]) if min(b[0]) <= min(b[1]) else min(b[1])"
   ]
  },
  {
   "cell_type": "code",
   "execution_count": 135,
   "id": "14e59129-d4b4-49c8-82f0-4167eb9b0cd6",
   "metadata": {
    "tags": []
   },
   "outputs": [
    {
     "data": {
      "text/plain": [
       "3"
      ]
     },
     "execution_count": 135,
     "metadata": {},
     "output_type": "execute_result"
    }
   ],
   "source": [
    "np.min(b)"
   ]
  },
  {
   "cell_type": "markdown",
   "id": "47cb04b0-de6b-48d9-ad75-aed739e48f9e",
   "metadata": {},
   "source": [
    "## Exercise 3 - refactor the following maximum calculation to find the answer with numpy."
   ]
  },
  {
   "cell_type": "code",
   "execution_count": 42,
   "id": "c0097507-e9f2-4777-a017-946cf8d4bd12",
   "metadata": {
    "tags": []
   },
   "outputs": [],
   "source": [
    "max_of_b = max(b[0]) if max(b[0]) >= max(b[1]) else max(b[1])"
   ]
  },
  {
   "cell_type": "code",
   "execution_count": 134,
   "id": "67bcad36-d353-4289-b1a0-c2e0296b0a33",
   "metadata": {
    "tags": []
   },
   "outputs": [
    {
     "data": {
      "text/plain": [
       "8"
      ]
     },
     "execution_count": 134,
     "metadata": {},
     "output_type": "execute_result"
    }
   ],
   "source": [
    "np.max(b)"
   ]
  },
  {
   "cell_type": "markdown",
   "id": "627afe61-c493-49e4-b15a-fb08bc7341ec",
   "metadata": {},
   "source": [
    "## Exercise 4 - refactor the following using numpy to find the mean of b"
   ]
  },
  {
   "cell_type": "code",
   "execution_count": 44,
   "id": "2b857a00-da44-4624-9e49-8b8a4f481887",
   "metadata": {
    "tags": []
   },
   "outputs": [],
   "source": [
    "mean_of_b = (sum(b[0]) + sum(b[1])) / (len(b[0]) + len(b[1]))"
   ]
  },
  {
   "cell_type": "code",
   "execution_count": 133,
   "id": "32223cf8-3b19-4d34-8925-27a4ef35e529",
   "metadata": {
    "tags": []
   },
   "outputs": [
    {
     "data": {
      "text/plain": [
       "5.5"
      ]
     },
     "execution_count": 133,
     "metadata": {},
     "output_type": "execute_result"
    }
   ],
   "source": [
    "np.mean(b)"
   ]
  },
  {
   "cell_type": "markdown",
   "id": "e8623be8-655d-4183-9d96-5534fac79ae5",
   "metadata": {},
   "source": [
    "## Exercise 5 - refactor the following to use numpy for calculating the product of all numbers multiplied together."
   ]
  },
  {
   "cell_type": "code",
   "execution_count": 46,
   "id": "94361ac5-1a98-4e92-a44f-fbfa6c243462",
   "metadata": {
    "tags": []
   },
   "outputs": [],
   "source": [
    "product_of_b = 1\n",
    "for row in b:\n",
    "    for number in row:\n",
    "        product_of_b *= number"
   ]
  },
  {
   "cell_type": "code",
   "execution_count": 96,
   "id": "e9f06db9-7e6a-49b3-9495-a27980bb4067",
   "metadata": {
    "tags": []
   },
   "outputs": [
    {
     "data": {
      "text/plain": [
       "20160"
      ]
     },
     "execution_count": 96,
     "metadata": {},
     "output_type": "execute_result"
    }
   ],
   "source": [
    " np.prod(b)"
   ]
  },
  {
   "cell_type": "markdown",
   "id": "328e0298-44cb-4015-bd40-3072708acf2e",
   "metadata": {},
   "source": [
    "## Exercise 6 - refactor the following to use numpy to find the list of squares"
   ]
  },
  {
   "cell_type": "code",
   "execution_count": 48,
   "id": "2509e9f2-5082-4073-bd98-06b45849b328",
   "metadata": {
    "tags": []
   },
   "outputs": [],
   "source": [
    "squares_of_b = []\n",
    "for row in b:\n",
    "    for number in row:\n",
    "        squares_of_b.append(number**2)"
   ]
  },
  {
   "cell_type": "code",
   "execution_count": 95,
   "id": "8b63c017-ce06-46bd-ba57-af33859393c2",
   "metadata": {
    "tags": []
   },
   "outputs": [
    {
     "data": {
      "text/plain": [
       "array([[ 9, 16, 25],\n",
       "       [36, 49, 64]])"
      ]
     },
     "execution_count": 95,
     "metadata": {},
     "output_type": "execute_result"
    }
   ],
   "source": [
    "np.square(b)"
   ]
  },
  {
   "cell_type": "markdown",
   "id": "a64768e0-01f1-42da-8fd9-9def4783b529",
   "metadata": {},
   "source": [
    "## Exercise 7 - refactor using numpy to determine the odds_in_b"
   ]
  },
  {
   "cell_type": "code",
   "execution_count": 53,
   "id": "963c25e6-141c-438d-8869-474fcd8902d2",
   "metadata": {
    "tags": []
   },
   "outputs": [],
   "source": [
    "odds_in_b = []\n",
    "for row in b:\n",
    "    for number in row:\n",
    "        if(number % 2 != 0):\n",
    "            odds_in_b.append(number)"
   ]
  },
  {
   "cell_type": "code",
   "execution_count": 94,
   "id": "df5167fa-f088-4e96-89b4-a2043c6e100e",
   "metadata": {
    "tags": []
   },
   "outputs": [
    {
     "data": {
      "text/plain": [
       "array([3, 5, 7])"
      ]
     },
     "execution_count": 94,
     "metadata": {},
     "output_type": "execute_result"
    }
   ],
   "source": [
    "b [b % 2 == 1]"
   ]
  },
  {
   "cell_type": "markdown",
   "id": "fa3d0825-5e7f-47fd-9afd-f015fb870cf7",
   "metadata": {},
   "source": [
    "## Exercise 8 - refactor the following to use numpy to filter only the even numbers"
   ]
  },
  {
   "cell_type": "code",
   "execution_count": 54,
   "id": "1916f177-ffd6-4a7d-b9e8-106aed9b46a4",
   "metadata": {
    "tags": []
   },
   "outputs": [],
   "source": [
    "evens_in_b = []\n",
    "for row in b:\n",
    "    for number in row:\n",
    "        if(number % 2 == 0):\n",
    "            evens_in_b.append(number)"
   ]
  },
  {
   "cell_type": "code",
   "execution_count": 93,
   "id": "7e9130b9-b7a2-4ae9-8a45-99f9bb689e90",
   "metadata": {
    "tags": []
   },
   "outputs": [
    {
     "data": {
      "text/plain": [
       "array([4, 6, 8])"
      ]
     },
     "execution_count": 93,
     "metadata": {},
     "output_type": "execute_result"
    }
   ],
   "source": [
    "b [b % 2 == 0]"
   ]
  },
  {
   "cell_type": "markdown",
   "id": "1e1a95f7-5506-472c-849b-775285a0aef1",
   "metadata": {},
   "source": [
    "## Exercise 9 - print out the shape of the array b."
   ]
  },
  {
   "cell_type": "code",
   "execution_count": 55,
   "id": "babea812-8bb0-471d-bbc7-cc04e776aea1",
   "metadata": {
    "tags": []
   },
   "outputs": [
    {
     "data": {
      "text/plain": [
       "(2, 3)"
      ]
     },
     "execution_count": 55,
     "metadata": {},
     "output_type": "execute_result"
    }
   ],
   "source": [
    "b.shape "
   ]
  },
  {
   "cell_type": "markdown",
   "id": "a63d968c-230b-49c1-ab9a-91a904518d08",
   "metadata": {},
   "source": [
    "## Exercise 10 - transpose the array b."
   ]
  },
  {
   "cell_type": "code",
   "execution_count": 97,
   "id": "140461b2-3753-4183-9ff9-74ce0319e22d",
   "metadata": {
    "tags": []
   },
   "outputs": [
    {
     "data": {
      "text/plain": [
       "array([[3, 6],\n",
       "       [4, 7],\n",
       "       [5, 8]])"
      ]
     },
     "execution_count": 97,
     "metadata": {},
     "output_type": "execute_result"
    }
   ],
   "source": [
    "np.transpose(b) # or b(T)"
   ]
  },
  {
   "cell_type": "markdown",
   "id": "058d3821-1973-409e-8355-415ddd5976cb",
   "metadata": {},
   "source": [
    "## Exercise 11 - reshape the array b to be a single list of 6 numbers. (1 x 6)"
   ]
  },
  {
   "cell_type": "code",
   "execution_count": 99,
   "id": "0c66eb02-a87c-4045-bf5a-b3844ff9c62b",
   "metadata": {
    "tags": []
   },
   "outputs": [
    {
     "data": {
      "text/plain": [
       "array([[3, 4, 5, 6, 7, 8]])"
      ]
     },
     "execution_count": 99,
     "metadata": {},
     "output_type": "execute_result"
    }
   ],
   "source": [
    "np.reshape(b, (1,6))"
   ]
  },
  {
   "cell_type": "markdown",
   "id": "6d270b15-0a77-4b52-81e4-661b16e9974c",
   "metadata": {},
   "source": [
    "## Exercise 12 - reshape the array b to be a list of 6 lists, each containing only 1 number (6 x 1)"
   ]
  },
  {
   "cell_type": "code",
   "execution_count": 100,
   "id": "d0a48a57-d613-49dc-84e4-4c3209691394",
   "metadata": {
    "tags": []
   },
   "outputs": [
    {
     "data": {
      "text/plain": [
       "array([[3],\n",
       "       [4],\n",
       "       [5],\n",
       "       [6],\n",
       "       [7],\n",
       "       [8]])"
      ]
     },
     "execution_count": 100,
     "metadata": {},
     "output_type": "execute_result"
    }
   ],
   "source": [
    "np.reshape(b, (6,1))"
   ]
  },
  {
   "cell_type": "markdown",
   "id": "3c759ad3-56a1-46a0-9dc8-fa81f5acda98",
   "metadata": {},
   "source": [
    "## Setup 3"
   ]
  },
  {
   "cell_type": "code",
   "execution_count": 102,
   "id": "f7804f52-b8a4-4998-81b7-ad744a13f090",
   "metadata": {
    "tags": []
   },
   "outputs": [],
   "source": [
    "c = [\n",
    "    [1, 2, 3],\n",
    "    [4, 5, 6],\n",
    "    [7, 8, 9]\n",
    "]"
   ]
  },
  {
   "cell_type": "code",
   "execution_count": 104,
   "id": "ef47b728-fb48-4019-8a75-dc4d59999081",
   "metadata": {
    "tags": []
   },
   "outputs": [],
   "source": [
    "c = np.array(c)"
   ]
  },
  {
   "cell_type": "markdown",
   "id": "c35d33b1-b1f2-44f6-a425-692fc5f475af",
   "metadata": {},
   "source": [
    "## Exercise 1 - Find the min, max, sum, and product of c."
   ]
  },
  {
   "cell_type": "code",
   "execution_count": 101,
   "id": "27c2ba08-2ffe-49e8-a797-0ad1daf0031a",
   "metadata": {
    "tags": []
   },
   "outputs": [
    {
     "data": {
      "text/plain": [
       "1"
      ]
     },
     "execution_count": 101,
     "metadata": {},
     "output_type": "execute_result"
    }
   ],
   "source": [
    " np.min(c)"
   ]
  },
  {
   "cell_type": "code",
   "execution_count": 103,
   "id": "0c38c317-cd22-4bf2-806a-c314faccf12e",
   "metadata": {
    "tags": []
   },
   "outputs": [
    {
     "data": {
      "text/plain": [
       "9"
      ]
     },
     "execution_count": 103,
     "metadata": {},
     "output_type": "execute_result"
    }
   ],
   "source": [
    "np.max(c)"
   ]
  },
  {
   "cell_type": "code",
   "execution_count": 105,
   "id": "a169adc9-3886-4a00-9090-2a2fb33a6944",
   "metadata": {
    "tags": []
   },
   "outputs": [
    {
     "data": {
      "text/plain": [
       "45"
      ]
     },
     "execution_count": 105,
     "metadata": {},
     "output_type": "execute_result"
    }
   ],
   "source": [
    "np.sum(c)"
   ]
  },
  {
   "cell_type": "code",
   "execution_count": 106,
   "id": "fb5ce6a9-0d94-455c-b65c-6113c06f4c18",
   "metadata": {
    "tags": []
   },
   "outputs": [
    {
     "data": {
      "text/plain": [
       "362880"
      ]
     },
     "execution_count": 106,
     "metadata": {},
     "output_type": "execute_result"
    }
   ],
   "source": [
    "np.prod(c)\n"
   ]
  },
  {
   "cell_type": "markdown",
   "id": "9bf8ea36-d7ea-465a-aee9-b0a62d46a89f",
   "metadata": {},
   "source": [
    "## Exercise 2 - Determine the standard deviation of c."
   ]
  },
  {
   "cell_type": "code",
   "execution_count": 107,
   "id": "49095d2d-169d-43ea-b35f-d29dd684d639",
   "metadata": {
    "tags": []
   },
   "outputs": [
    {
     "data": {
      "text/plain": [
       "2.581988897471611"
      ]
     },
     "execution_count": 107,
     "metadata": {},
     "output_type": "execute_result"
    }
   ],
   "source": [
    "np.std(c)\n"
   ]
  },
  {
   "cell_type": "markdown",
   "id": "a8a2f6d7-4c93-40c0-92f6-7f72f4452a2e",
   "metadata": {},
   "source": [
    "##  Exercise 3 - Determine the variance of c."
   ]
  },
  {
   "cell_type": "code",
   "execution_count": 108,
   "id": "0f84b65d-0f4f-480d-895c-26b47fa1bfe2",
   "metadata": {
    "tags": []
   },
   "outputs": [
    {
     "data": {
      "text/plain": [
       "6.666666666666667"
      ]
     },
     "execution_count": 108,
     "metadata": {},
     "output_type": "execute_result"
    }
   ],
   "source": [
    "np.var(c)\n"
   ]
  },
  {
   "cell_type": "markdown",
   "id": "fc901d20-114f-4451-a3b1-7caf745edbd2",
   "metadata": {},
   "source": [
    "## Exercise 4 - Print out the shape of the array c"
   ]
  },
  {
   "cell_type": "code",
   "execution_count": 65,
   "id": "bc2c4f12-6930-412a-a491-0ce63b4aa380",
   "metadata": {
    "tags": []
   },
   "outputs": [
    {
     "data": {
      "text/plain": [
       "(3, 3)"
      ]
     },
     "execution_count": 65,
     "metadata": {},
     "output_type": "execute_result"
    }
   ],
   "source": [
    "c.shape"
   ]
  },
  {
   "cell_type": "markdown",
   "id": "af36fe30-ebc7-4d93-9720-6a7fd82f55f4",
   "metadata": {},
   "source": [
    "## Exercise 5 - Transpose c and print out transposed result."
   ]
  },
  {
   "cell_type": "code",
   "execution_count": 109,
   "id": "d3a8f76b-088d-4bee-bbf9-b0505826c122",
   "metadata": {
    "tags": []
   },
   "outputs": [
    {
     "data": {
      "text/plain": [
       "array([[1, 4, 7],\n",
       "       [2, 5, 8],\n",
       "       [3, 6, 9]])"
      ]
     },
     "execution_count": 109,
     "metadata": {},
     "output_type": "execute_result"
    }
   ],
   "source": [
    "np.transpose(c)"
   ]
  },
  {
   "cell_type": "markdown",
   "id": "4c9d17f2-6d8a-47f0-96c1-2f6a6b39acdc",
   "metadata": {},
   "source": [
    "## Exercise 6 - Get the dot product of the array c with c. "
   ]
  },
  {
   "cell_type": "code",
   "execution_count": 111,
   "id": "28ab3f7f-fcec-4359-8c26-88ec35a8a36c",
   "metadata": {
    "tags": []
   },
   "outputs": [
    {
     "data": {
      "text/plain": [
       "array([[ 30,  36,  42],\n",
       "       [ 66,  81,  96],\n",
       "       [102, 126, 150]])"
      ]
     },
     "execution_count": 111,
     "metadata": {},
     "output_type": "execute_result"
    }
   ],
   "source": [
    "np.dot(c,c)"
   ]
  },
  {
   "cell_type": "markdown",
   "id": "d6d09d9a-6d1a-4fcd-8fbd-06b38479b6ab",
   "metadata": {},
   "source": [
    "## Exercise 7 - Write the code necessary to sum up the result of c times c transposed. Answer should be 261"
   ]
  },
  {
   "cell_type": "code",
   "execution_count": 112,
   "id": "6fcd0a95-f363-4fc5-86b9-b3db0cd3024a",
   "metadata": {
    "tags": []
   },
   "outputs": [
    {
     "data": {
      "text/plain": [
       "array([[ 1,  8, 21],\n",
       "       [ 8, 25, 48],\n",
       "       [21, 48, 81]])"
      ]
     },
     "execution_count": 112,
     "metadata": {},
     "output_type": "execute_result"
    }
   ],
   "source": [
    "(c.T * c)"
   ]
  },
  {
   "cell_type": "code",
   "execution_count": 113,
   "id": "de2ee6e2-c3fe-4b17-85e4-b10821c325c6",
   "metadata": {
    "tags": []
   },
   "outputs": [
    {
     "data": {
      "text/plain": [
       "261"
      ]
     },
     "execution_count": 113,
     "metadata": {},
     "output_type": "execute_result"
    }
   ],
   "source": [
    "(c.T *c).sum()"
   ]
  },
  {
   "cell_type": "markdown",
   "id": "ead675da-6c05-4044-bf47-1c3e668ee968",
   "metadata": {},
   "source": [
    "## Write the code necessary to determine the product of c times c transposed. Answer should be 131681894400."
   ]
  },
  {
   "cell_type": "code",
   "execution_count": 114,
   "id": "19c28d3a-8b9a-49fd-8369-07dcf68ea3df",
   "metadata": {
    "tags": []
   },
   "outputs": [
    {
     "data": {
      "text/plain": [
       "array([[ 1,  8, 21],\n",
       "       [ 8, 25, 48],\n",
       "       [21, 48, 81]])"
      ]
     },
     "execution_count": 114,
     "metadata": {},
     "output_type": "execute_result"
    }
   ],
   "source": [
    "(c.T * c)"
   ]
  },
  {
   "cell_type": "code",
   "execution_count": 115,
   "id": "f4ec8fa9-6e20-4035-aba4-8308e62288ec",
   "metadata": {
    "tags": []
   },
   "outputs": [
    {
     "data": {
      "text/plain": [
       "131681894400"
      ]
     },
     "execution_count": 115,
     "metadata": {},
     "output_type": "execute_result"
    }
   ],
   "source": [
    "(c.T * c).prod()"
   ]
  },
  {
   "cell_type": "markdown",
   "id": "d7e0b174-5e36-4e25-b36d-23ffc795ba01",
   "metadata": {},
   "source": [
    "## Setup 4"
   ]
  },
  {
   "cell_type": "code",
   "execution_count": 116,
   "id": "9e105ebb-6a35-4c7a-b071-f04549f78d75",
   "metadata": {
    "tags": []
   },
   "outputs": [],
   "source": [
    "d = [\n",
    "    [90, 30, 45, 0, 120, 180],\n",
    "    [45, -90, -30, 270, 90, 0],\n",
    "    [60, 45, -45, 90, -45, 180]\n",
    "]"
   ]
  },
  {
   "cell_type": "code",
   "execution_count": 117,
   "id": "87d6dfd5-db94-41e5-a101-599aa5a4ec3a",
   "metadata": {
    "tags": []
   },
   "outputs": [],
   "source": [
    "d = np.array(d)"
   ]
  },
  {
   "cell_type": "markdown",
   "id": "1a196d6f-ccab-459f-bc88-c3cf22e5b84c",
   "metadata": {},
   "source": [
    "## Exercise 1 - Find the sine of all the numbers in d"
   ]
  },
  {
   "cell_type": "code",
   "execution_count": 118,
   "id": "dcfdc6e0-a9cd-4e0f-84ab-df277a80f301",
   "metadata": {
    "tags": []
   },
   "outputs": [
    {
     "data": {
      "text/plain": [
       "array([[ 0.89399666, -0.98803162,  0.85090352,  0.        ,  0.58061118,\n",
       "        -0.80115264],\n",
       "       [ 0.85090352, -0.89399666,  0.98803162, -0.17604595,  0.89399666,\n",
       "         0.        ],\n",
       "       [-0.30481062,  0.85090352, -0.85090352,  0.89399666, -0.85090352,\n",
       "        -0.80115264]])"
      ]
     },
     "execution_count": 118,
     "metadata": {},
     "output_type": "execute_result"
    }
   ],
   "source": [
    "np.sin(d)"
   ]
  },
  {
   "cell_type": "markdown",
   "id": "5b4e5a2b-3a4a-4d79-ba3b-38976bffdf6e",
   "metadata": {},
   "source": [
    "## Exercise 2 - Find the cosine of all the numbers in d"
   ]
  },
  {
   "cell_type": "code",
   "execution_count": 119,
   "id": "30ba0869-7568-4e36-bbe7-ba7f67627091",
   "metadata": {
    "tags": []
   },
   "outputs": [
    {
     "data": {
      "text/plain": [
       "array([[-0.44807362,  0.15425145,  0.52532199,  1.        ,  0.81418097,\n",
       "        -0.59846007],\n",
       "       [ 0.52532199, -0.44807362,  0.15425145,  0.98438195, -0.44807362,\n",
       "         1.        ],\n",
       "       [-0.95241298,  0.52532199,  0.52532199, -0.44807362,  0.52532199,\n",
       "        -0.59846007]])"
      ]
     },
     "execution_count": 119,
     "metadata": {},
     "output_type": "execute_result"
    }
   ],
   "source": [
    "np.cos(d)"
   ]
  },
  {
   "cell_type": "markdown",
   "id": "89ba4703-cea5-4f24-b8e5-a89932010ab9",
   "metadata": {},
   "source": [
    "## Exercise 3 - Find the tangent of all the numbers in d"
   ]
  },
  {
   "cell_type": "code",
   "execution_count": 120,
   "id": "217ba6ae-982c-49c3-be8d-3fe8b351b7f1",
   "metadata": {
    "tags": []
   },
   "outputs": [
    {
     "data": {
      "text/plain": [
       "array([[-1.99520041, -6.4053312 ,  1.61977519,  0.        ,  0.71312301,\n",
       "         1.33869021],\n",
       "       [ 1.61977519,  1.99520041,  6.4053312 , -0.17883906, -1.99520041,\n",
       "         0.        ],\n",
       "       [ 0.32004039,  1.61977519, -1.61977519, -1.99520041, -1.61977519,\n",
       "         1.33869021]])"
      ]
     },
     "execution_count": 120,
     "metadata": {},
     "output_type": "execute_result"
    }
   ],
   "source": [
    "np.tan(d)"
   ]
  },
  {
   "cell_type": "markdown",
   "id": "2432f4d5-53bc-4829-abb5-0fae88e09448",
   "metadata": {},
   "source": [
    "## Exercise 4 - Find all the negative numbers in d"
   ]
  },
  {
   "cell_type": "code",
   "execution_count": 122,
   "id": "cb77b2d0-b910-4c85-98e8-991eb0d3c3a2",
   "metadata": {
    "tags": []
   },
   "outputs": [
    {
     "data": {
      "text/plain": [
       "array([-90, -30, -45, -45])"
      ]
     },
     "execution_count": 122,
     "metadata": {},
     "output_type": "execute_result"
    }
   ],
   "source": [
    "d [d < 0]"
   ]
  },
  {
   "cell_type": "markdown",
   "id": "0ea05867-6f31-4f68-84a0-66d1083ad8ee",
   "metadata": {},
   "source": [
    "## Exercise 5 - Find all the positive numbers in d"
   ]
  },
  {
   "cell_type": "code",
   "execution_count": 123,
   "id": "53f3887f-61dc-4150-b118-0b35a7914e39",
   "metadata": {
    "tags": []
   },
   "outputs": [
    {
     "data": {
      "text/plain": [
       "array([ 90,  30,  45, 120, 180,  45, 270,  90,  60,  45,  90, 180])"
      ]
     },
     "execution_count": 123,
     "metadata": {},
     "output_type": "execute_result"
    }
   ],
   "source": [
    "d [d > 0]"
   ]
  },
  {
   "cell_type": "markdown",
   "id": "9f193bbf-0296-4fa3-a573-b763544dc6a7",
   "metadata": {},
   "source": [
    "## Exercise 6 - Return an array of only the unique numbers in d."
   ]
  },
  {
   "cell_type": "code",
   "execution_count": 124,
   "id": "9538438e-fd0a-425a-b0be-1a34f514d83f",
   "metadata": {
    "tags": []
   },
   "outputs": [
    {
     "data": {
      "text/plain": [
       "array([-90, -45, -30,   0,  30,  45,  60,  90, 120, 180, 270])"
      ]
     },
     "execution_count": 124,
     "metadata": {},
     "output_type": "execute_result"
    }
   ],
   "source": [
    "np.unique(d)"
   ]
  },
  {
   "cell_type": "markdown",
   "id": "c6ef4b97-9b41-4af8-ae82-c3d4ce013800",
   "metadata": {},
   "source": [
    "## Exercise 7 - Determine how many unique numbers there are in d."
   ]
  },
  {
   "cell_type": "code",
   "execution_count": 125,
   "id": "6c7e351e-8ee6-4972-aeb9-3e60586fdabd",
   "metadata": {
    "tags": []
   },
   "outputs": [
    {
     "data": {
      "text/plain": [
       "11"
      ]
     },
     "execution_count": 125,
     "metadata": {},
     "output_type": "execute_result"
    }
   ],
   "source": [
    "len(np.unique(d))"
   ]
  },
  {
   "cell_type": "markdown",
   "id": "b4f630f2-fbbb-4db2-b761-40a95d9a8f00",
   "metadata": {},
   "source": [
    "## Exercise 8 - Print out the shape of d."
   ]
  },
  {
   "cell_type": "code",
   "execution_count": 127,
   "id": "dfa597f2-c145-4499-963a-7bab37230717",
   "metadata": {
    "tags": []
   },
   "outputs": [
    {
     "data": {
      "text/plain": [
       "(3, 6)"
      ]
     },
     "execution_count": 127,
     "metadata": {},
     "output_type": "execute_result"
    }
   ],
   "source": [
    "d.shape"
   ]
  },
  {
   "cell_type": "markdown",
   "id": "b16b759a-1d20-42ff-9fe1-40a8fa5b31cf",
   "metadata": {},
   "source": [
    "## Exercise 9 - Transpose and then print out the shape of d."
   ]
  },
  {
   "cell_type": "code",
   "execution_count": 129,
   "id": "e1239891-2f26-49c7-b118-d8f239399487",
   "metadata": {
    "tags": []
   },
   "outputs": [
    {
     "data": {
      "text/plain": [
       "array([[ 90,  45,  60],\n",
       "       [ 30, -90,  45],\n",
       "       [ 45, -30, -45],\n",
       "       [  0, 270,  90],\n",
       "       [120,  90, -45],\n",
       "       [180,   0, 180]])"
      ]
     },
     "execution_count": 129,
     "metadata": {},
     "output_type": "execute_result"
    }
   ],
   "source": [
    "np.transpose(d)"
   ]
  },
  {
   "cell_type": "code",
   "execution_count": 132,
   "id": "1b76e5df-e876-4a4e-b3ed-393922c766b7",
   "metadata": {
    "tags": []
   },
   "outputs": [
    {
     "data": {
      "text/plain": [
       "(6, 3)"
      ]
     },
     "execution_count": 132,
     "metadata": {},
     "output_type": "execute_result"
    }
   ],
   "source": [
    "d.T.shape"
   ]
  },
  {
   "cell_type": "markdown",
   "id": "d8fa6b67-599b-411e-a010-4a15ac1a5676",
   "metadata": {},
   "source": [
    "## Exercise 10 - Reshape d into an array of 9 x 2"
   ]
  },
  {
   "cell_type": "code",
   "execution_count": 131,
   "id": "bc61cfda-f076-4000-a992-002400bfba60",
   "metadata": {
    "tags": []
   },
   "outputs": [
    {
     "data": {
      "text/plain": [
       "array([[ 90,  30],\n",
       "       [ 45,   0],\n",
       "       [120, 180],\n",
       "       [ 45, -90],\n",
       "       [-30, 270],\n",
       "       [ 90,   0],\n",
       "       [ 60,  45],\n",
       "       [-45,  90],\n",
       "       [-45, 180]])"
      ]
     },
     "execution_count": 131,
     "metadata": {},
     "output_type": "execute_result"
    }
   ],
   "source": [
    "np.reshape(d, (9,2))"
   ]
  }
 ],
 "metadata": {
  "kernelspec": {
   "display_name": "Python 3 (ipykernel)",
   "language": "python",
   "name": "python3"
  },
  "language_info": {
   "codemirror_mode": {
    "name": "ipython",
    "version": 3
   },
   "file_extension": ".py",
   "mimetype": "text/x-python",
   "name": "python",
   "nbconvert_exporter": "python",
   "pygments_lexer": "ipython3",
   "version": "3.11.5"
  }
 },
 "nbformat": 4,
 "nbformat_minor": 5
}
